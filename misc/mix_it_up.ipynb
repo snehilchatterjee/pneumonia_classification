{
 "cells": [
  {
   "cell_type": "code",
   "execution_count": 1,
   "id": "6ee17ee5-afa2-4f86-80de-6aa5f9997a99",
   "metadata": {},
   "outputs": [],
   "source": [
    "import os\n",
    "import numpy as np\n",
    "import pandas as pd\n",
    "import shutil\n",
    "import random\n",
    "import torch\n",
    "from PIL import Image\n",
    "import matplotlib.pyplot as plt\n",
    "from sklearn.model_selection import train_test_split\n",
    "from sklearn.utils import shuffle"
   ]
  },
  {
   "cell_type": "markdown",
   "id": "358d3d6a-5477-4796-92fc-301041021e31",
   "metadata": {},
   "source": [
    "### Import Data"
   ]
  },
  {
   "cell_type": "code",
   "execution_count": 2,
   "id": "a4125f51-9dcc-4a19-855f-44701c421d6c",
   "metadata": {},
   "outputs": [],
   "source": [
    "train_images=4380\n",
    "test_images=1460\n",
    "src=\"./chest_xray/mixed\"\n",
    "des=\"./MixUP_ViT\"\n",
    "classes=os.listdir(src)"
   ]
  },
  {
   "cell_type": "code",
   "execution_count": 3,
   "id": "3708c9b5-e841-4d90-8d25-9d77b1004e44",
   "metadata": {},
   "outputs": [],
   "source": [
    "images=[]\n",
    "for i in os.listdir(src):\n",
    "    folder_path=os.path.join(src,i)\n",
    "    images.append(os.listdir(folder_path))"
   ]
  },
  {
   "cell_type": "code",
   "execution_count": 4,
   "id": "c5dbb7fe-f858-4711-a95d-3d8917eac6c9",
   "metadata": {},
   "outputs": [],
   "source": [
    "df=pd.DataFrame(columns=[\"Images\"])\n",
    "temp_df=pd.DataFrame(columns=[\"Images\"])\n",
    "temp_df[\"Images\"]=images[1]\n",
    "temp_df=\"./chest_xray/ViT_Test (copy)/PNEUMONIA/\"+temp_df;\n",
    "df[\"Images\"]=images[0]\n",
    "df=\"./chest_xray/ViT_Test (copy)/NORMAL/\"+df;\n",
    "df=pd.concat([temp_df,df],axis=0)\n",
    "df=shuffle(df).reset_index().drop([\"index\"],axis=1)\n",
    "final=[]\n",
    "for i in df[\"Images\"]:\n",
    "    if(\".ipynb_checkpoints\" not in i):\n",
    "        final.append(i)\n",
    "train,test=train_test_split(final,test_size=0.25)"
   ]
  },
  {
   "cell_type": "code",
   "execution_count": 5,
   "id": "6af5dfa1-de8a-4352-bbad-e9def8cff0a9",
   "metadata": {},
   "outputs": [
    {
     "data": {
      "text/plain": [
       "5840"
      ]
     },
     "execution_count": 5,
     "metadata": {},
     "output_type": "execute_result"
    }
   ],
   "source": [
    "len(final)"
   ]
  },
  {
   "cell_type": "code",
   "execution_count": 6,
   "id": "0e448775-9d41-46e9-b119-a8d1b31cff94",
   "metadata": {},
   "outputs": [
    {
     "data": {
      "text/plain": [
       "(1180, 3200, 4380)"
      ]
     },
     "execution_count": 6,
     "metadata": {},
     "output_type": "execute_result"
    }
   ],
   "source": [
    "train_normal_length=0\n",
    "train_pn_length=0\n",
    "for i in train:\n",
    "    if(\"NORMAL\" in i):\n",
    "        train_normal_length+=1\n",
    "    if(\"PNEUMONIA\" in i):\n",
    "        train_pn_length+=1\n",
    "train_normal_length,train_pn_length,len(train)"
   ]
  },
  {
   "cell_type": "code",
   "execution_count": 7,
   "id": "68410659-b0b3-4090-bbf1-7b750eb9d082",
   "metadata": {},
   "outputs": [
    {
     "data": {
      "text/plain": [
       "(395, 1065, 1460)"
      ]
     },
     "execution_count": 7,
     "metadata": {},
     "output_type": "execute_result"
    }
   ],
   "source": [
    "test_normal_length=0\n",
    "test_pn_length=0\n",
    "for i in test:\n",
    "    if(\"NORMAL\" in i):\n",
    "        test_normal_length+=1\n",
    "    if(\"PNEUMONIA\" in i):\n",
    "        test_pn_length+=1\n",
    "\n",
    "test_normal_length,test_pn_length,len(test)"
   ]
  },
  {
   "cell_type": "markdown",
   "id": "a73632f4-5280-4e97-8ace-5e47eaaa45e1",
   "metadata": {},
   "source": [
    "### Data Migration"
   ]
  },
  {
   "cell_type": "code",
   "execution_count": 8,
   "id": "503cc1ce-fed2-4d08-a884-c3f94c39484e",
   "metadata": {},
   "outputs": [],
   "source": [
    "for i in train:\n",
    "    try:\n",
    "        des_path=\"MixUP_ViT/train/\"+i.split(\"/\")[3]\n",
    "        os.makedirs(des_path)\n",
    "    except Exception as e:\n",
    "        pass\n",
    "    finally:\n",
    "        shutil.copy(i,des_path)"
   ]
  },
  {
   "cell_type": "code",
   "execution_count": 9,
   "id": "c3f5686f-56b5-44ec-88d5-339690002822",
   "metadata": {},
   "outputs": [],
   "source": [
    "for i in test:\n",
    "    try:\n",
    "        des_path=\"MixUP_ViT/test/\"+i.split(\"/\")[3]\n",
    "        os.makedirs(des_path)\n",
    "    except Exception as e:\n",
    "        pass\n",
    "    finally:\n",
    "        shutil.copy(i,des_path)"
   ]
  }
 ],
 "metadata": {
  "kernelspec": {
   "display_name": "Python 3",
   "language": "python",
   "name": "python3"
  },
  "language_info": {
   "codemirror_mode": {
    "name": "ipython",
    "version": 3
   },
   "file_extension": ".py",
   "mimetype": "text/x-python",
   "name": "python",
   "nbconvert_exporter": "python",
   "pygments_lexer": "ipython3",
   "version": "3.9.17"
  }
 },
 "nbformat": 4,
 "nbformat_minor": 5
}
