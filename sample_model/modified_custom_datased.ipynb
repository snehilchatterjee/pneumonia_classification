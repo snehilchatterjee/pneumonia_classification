{
 "cells": [
  {
   "cell_type": "code",
   "execution_count": 40,
   "id": "f9ceb379-6442-428f-a16c-11dbe296f09c",
   "metadata": {},
   "outputs": [],
   "source": [
    "import torch\n",
    "from torch.utils.data import Dataset\n",
    "import pathlib\n",
    "import os\n",
    "import cv2\n",
    "import matplotlib.pyplot as plt\n",
    "from PIL import Image"
   ]
  },
  {
   "cell_type": "code",
   "execution_count": 56,
   "id": "e8b4ce35-d564-4444-b1a7-339736251c21",
   "metadata": {},
   "outputs": [],
   "source": [
    "class modified_dataset_loader(Dataset):\n",
    "    def __init__(self,targ_dir: str,transformations=None):\n",
    "        \n",
    "        def image_fetch(src,image_paths):\n",
    "            l=os.listdir(src)\n",
    "            if(len(l)!=0):\n",
    "                for i in range(len(l)):\n",
    "                    if(\".jpg\" in l[i] or \".jpeg\" in l[i] or \".png\" in l[i]):\n",
    "                        image_paths.append(str(src+l[i]))\n",
    "                    elif(\".\" not in l[i]):\n",
    "                        try:\n",
    "                            image_fetch(str(src+l[i]+\"/\"),image_paths)\n",
    "                        except:\n",
    "                            continue\n",
    "                            \n",
    "        def class_fetch(image_paths)->(list,dict):\n",
    "            s=set()\n",
    "            for i in image_paths:\n",
    "                s.add(i.split(\"/\")[-2])\n",
    "            d={}\n",
    "            count=0\n",
    "            for i in s:\n",
    "                d[i]=count\n",
    "                count+=1\n",
    "            return list(s),d\n",
    "\n",
    "        self.transform=transformations\n",
    "        self.paths=self.image_fetch(targ_dir)\n",
    "        self.classes, self.class_to_idx=self.class_fetch(self.paths)\n",
    "\n",
    "    def load_image(self,index):\n",
    "        return cv2.imread(self.paths[index])\n",
    "\n",
    "    def __len__(self):\n",
    "        return len(self.paths)\n",
    "\n",
    "    def __getitem__(self,index):\n",
    "        image=torch.tensor(self.load_image(index))\n",
    "        class_val=self.class_to_idx[(self.paths[index]).split(\"/\")[-2]]\n",
    "        if(self.transform):\n",
    "            image=self.transform(image)\n",
    "        return image,class_val"
   ]
  },
  {
   "cell_type": "code",
   "execution_count": 3,
   "id": "8185e28a-2019-4dd2-b018-04984a251914",
   "metadata": {
    "scrolled": true
   },
   "outputs": [],
   "source": [
    "def image_fetch(src,image_paths):\n",
    "    l=os.listdir(src)\n",
    "    if(len(l)!=0):\n",
    "        for i in range(len(l)):\n",
    "            if(\".jpg\" in l[i] or \".jpeg\" in l[i] or \".png\" in l[i]):\n",
    "                image_paths.append(str(src+l[i]))\n",
    "            elif(\".\" not in l[i]):\n",
    "                try:\n",
    "                    image_fetch(str(src+l[i]+\"/\"),image_paths)\n",
    "                except:\n",
    "                    continue\n",
    "        "
   ]
  },
  {
   "cell_type": "code",
   "execution_count": 28,
   "id": "cc5345f0-a198-4483-9cd0-c50c35bbad0b",
   "metadata": {},
   "outputs": [],
   "source": [
    "image_paths=[]\n",
    "src=\"./\"\n",
    "image_fetch(src,image_paths)"
   ]
  },
  {
   "cell_type": "code",
   "execution_count": null,
   "id": "0458a50e-2377-4655-b6cf-3c7115dfcfae",
   "metadata": {},
   "outputs": [],
   "source": [
    "def indexing(set1):\n",
    "    dict1={set1[i]for i in set1}"
   ]
  },
  {
   "cell_type": "code",
   "execution_count": 29,
   "id": "f734d1da-3e9d-4ff6-91a4-e12c81cb00b2",
   "metadata": {
    "scrolled": true
   },
   "outputs": [],
   "source": [
    "l1=set()\n",
    "for i in image_paths:\n",
    "    l1.add(i.split(\"/\")[-2])"
   ]
  },
  {
   "cell_type": "code",
   "execution_count": 35,
   "id": "a0e4d655-69a7-4e5a-b9ba-54c4b82f86a0",
   "metadata": {},
   "outputs": [
    {
     "data": {
      "text/plain": [
       "['pizza', 'steak']"
      ]
     },
     "execution_count": 35,
     "metadata": {},
     "output_type": "execute_result"
    }
   ],
   "source": [
    "list(l1)"
   ]
  },
  {
   "cell_type": "code",
   "execution_count": 31,
   "id": "9930e116-a8c8-4e16-b37f-920549372470",
   "metadata": {},
   "outputs": [
    {
     "name": "stdout",
     "output_type": "stream",
     "text": [
      "pizza\n",
      "steak\n"
     ]
    }
   ],
   "source": [
    "for i in l1:\n",
    "    print(i)"
   ]
  },
  {
   "cell_type": "code",
   "execution_count": 34,
   "id": "3959fc4b-a4e5-4d65-82cc-f93a1ad5db86",
   "metadata": {},
   "outputs": [
    {
     "data": {
      "text/plain": [
       "2"
      ]
     },
     "execution_count": 34,
     "metadata": {},
     "output_type": "execute_result"
    }
   ],
   "source": [
    "len(l1)"
   ]
  },
  {
   "cell_type": "code",
   "execution_count": 54,
   "id": "528b2855-6185-41f7-9d5f-ce04aefaf8c4",
   "metadata": {},
   "outputs": [],
   "source": [
    "def class_fetch(image_paths)->(list,dict):\n",
    "    s=set()\n",
    "    for i in image_paths:\n",
    "        s.add(i.split(\"/\")[-2])\n",
    "    d={}\n",
    "    count=0\n",
    "    for i in s:\n",
    "        d[i]=count\n",
    "        count+=1\n",
    "    return list(s),d"
   ]
  },
  {
   "cell_type": "code",
   "execution_count": 55,
   "id": "f8f8d5ac-a708-4ee3-8bf6-855e211057dc",
   "metadata": {},
   "outputs": [
    {
     "data": {
      "text/plain": [
       "(['pizza', 'steak'], {'pizza': 0, 'steak': 1})"
      ]
     },
     "execution_count": 55,
     "metadata": {},
     "output_type": "execute_result"
    }
   ],
   "source": [
    "class_fetch(image_paths)"
   ]
  },
  {
   "cell_type": "code",
   "execution_count": 53,
   "id": "a47cd21e-9852-4cea-a1d2-13cdff39f11e",
   "metadata": {},
   "outputs": [
    {
     "data": {
      "text/plain": [
       "tensor([[[255, 255, 245],\n",
       "         [255, 255, 245],\n",
       "         [255, 255, 246],\n",
       "         ...,\n",
       "         [ 31,  94, 154],\n",
       "         [ 37,  99, 159],\n",
       "         [ 33,  93, 152]],\n",
       "\n",
       "        [[255, 255, 247],\n",
       "         [255, 255, 245],\n",
       "         [254, 255, 245],\n",
       "         ...,\n",
       "         [ 53, 114, 176],\n",
       "         [ 56, 116, 176],\n",
       "         [ 40,  98, 157]],\n",
       "\n",
       "        [[255, 255, 248],\n",
       "         [255, 255, 245],\n",
       "         [255, 255, 246],\n",
       "         ...,\n",
       "         [ 62, 119, 181],\n",
       "         [ 63, 118, 179],\n",
       "         [ 40,  94, 155]],\n",
       "\n",
       "        ...,\n",
       "\n",
       "        [[ 40,  46,  59],\n",
       "         [ 21,  27,  40],\n",
       "         [ 21,  28,  43],\n",
       "         ...,\n",
       "         [ 60,  78, 101],\n",
       "         [ 44,  60,  83],\n",
       "         [ 60,  76,  99]],\n",
       "\n",
       "        [[ 52,  57,  72],\n",
       "         [ 39,  44,  59],\n",
       "         [ 24,  31,  46],\n",
       "         ...,\n",
       "         [ 51,  68,  94],\n",
       "         [ 48,  63,  89],\n",
       "         [ 70,  85, 111]],\n",
       "\n",
       "        [[ 53,  58,  73],\n",
       "         [ 49,  54,  69],\n",
       "         [ 20,  27,  42],\n",
       "         ...,\n",
       "         [ 31,  51,  76],\n",
       "         [ 53,  68,  94],\n",
       "         [ 60,  75, 101]]], dtype=torch.int32)"
      ]
     },
     "execution_count": 53,
     "metadata": {},
     "output_type": "execute_result"
    }
   ],
   "source": [
    "torch.tensor(cv2.imread(image_paths[0])).type(torch.int32)"
   ]
  },
  {
   "cell_type": "code",
   "execution_count": null,
   "id": "d1ff3be9-13d5-4a33-885c-8fa3dfddcbf4",
   "metadata": {},
   "outputs": [],
   "source": []
  }
 ],
 "metadata": {
  "kernelspec": {
   "display_name": "Python 3 (ipykernel)",
   "language": "python",
   "name": "python3"
  },
  "language_info": {
   "codemirror_mode": {
    "name": "ipython",
    "version": 3
   },
   "file_extension": ".py",
   "mimetype": "text/x-python",
   "name": "python",
   "nbconvert_exporter": "python",
   "pygments_lexer": "ipython3",
   "version": "3.11.5"
  }
 },
 "nbformat": 4,
 "nbformat_minor": 5
}
