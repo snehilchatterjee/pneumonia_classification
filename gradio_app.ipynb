{
 "cells": [
  {
   "cell_type": "code",
   "execution_count": 1,
   "id": "94bda4c0-28e6-4540-88aa-6e185e03c82b",
   "metadata": {},
   "outputs": [],
   "source": [
    "import timm\n",
    "import torch\n",
    "import warnings\n",
    "import gradio as gr\n",
    "import cv2\n",
    "\n",
    "device=\"cuda\" if torch.cuda.is_available() else \"cpu\"\n",
    "warnings.filterwarnings(\"ignore\")"
   ]
  },
  {
   "cell_type": "code",
   "execution_count": 2,
   "id": "f8a7cdf7-7c35-4e1f-bd1b-d05e58a5f731",
   "metadata": {},
   "outputs": [
    {
     "data": {
      "text/plain": [
       "<All keys matched successfully>"
      ]
     },
     "execution_count": 2,
     "metadata": {},
     "output_type": "execute_result"
    }
   ],
   "source": [
    "model_name=\"vit_base_patch8_224.augreg_in21k_ft_in1k\"\n",
    "model=timm.create_model(model_name)\n",
    "model.head=torch.nn.Linear(in_features=model.head.in_features,out_features=2)\n",
    "state_dict=torch.load(\"models/vit_base_patch8_224.augreg_in21k_feature_extractor/checkpoint-5.pth\")\n",
    "model.load_state_dict(state_dict)"
   ]
  },
  {
   "cell_type": "code",
   "execution_count": 3,
   "id": "70ba8a0a-016c-46ee-9ffe-c24d5228cbb4",
   "metadata": {},
   "outputs": [
    {
     "name": "stdout",
     "output_type": "stream",
     "text": [
      "Running on local URL:  http://127.0.0.1:7860\n",
      "\n",
      "To create a public link, set `share=True` in `launch()`.\n"
     ]
    },
    {
     "data": {
      "text/html": [
       "<div><iframe src=\"http://127.0.0.1:7860/\" width=\"100%\" height=\"500\" allow=\"autoplay; camera; microphone; clipboard-read; clipboard-write;\" frameborder=\"0\" allowfullscreen></iframe></div>"
      ],
      "text/plain": [
       "<IPython.core.display.HTML object>"
      ]
     },
     "metadata": {},
     "output_type": "display_data"
    },
    {
     "data": {
      "text/plain": []
     },
     "execution_count": 3,
     "metadata": {},
     "output_type": "execute_result"
    }
   ],
   "source": [
    "def flip_text(x):\n",
    "    return x[::-1]\n",
    "\n",
    "\n",
    "def model_inf(x):\n",
    "    im=torch.tensor(cv2.resize(x,(224,224)))\n",
    "    im=torch.from_numpy(cv2.resize(x,(224,224))).type(torch.float32)\n",
    "    im=im.permute(2,0,1)\n",
    "    im=im.unsqueeze(dim=0)\n",
    "    result=torch.argmax(torch.softmax(model(im),dim=1),dim=1)\n",
    "    print(result)\n",
    "    if(result):\n",
    "        return \"Pneumonia\"\n",
    "    else:\n",
    "        return \"Normal\"\n",
    "\n",
    "\n",
    "\n",
    "with gr.Blocks() as app:\n",
    "    gr.Markdown(\"Pneumonia Classifier\")\n",
    "    with gr.Tab(\"Classification by image\"):\n",
    "        with gr.Row():\n",
    "            gr.Interface(fn=model_inf, inputs=\"image\", outputs=\"text\",allow_flagging=\"never\")\n",
    "    with gr.Tab(\"Classification by audio\"):\n",
    "        gr.Interface(fn=flip_text, inputs=\"audio\", outputs=\"text\",allow_flagging=\"never\")\n",
    "\n",
    "\n",
    "\n",
    "app.launch()"
   ]
  }
 ],
 "metadata": {
  "kernelspec": {
   "display_name": "Python 3",
   "language": "python",
   "name": "python3"
  },
  "language_info": {
   "codemirror_mode": {
    "name": "ipython",
    "version": 3
   },
   "file_extension": ".py",
   "mimetype": "text/x-python",
   "name": "python",
   "nbconvert_exporter": "python",
   "pygments_lexer": "ipython3",
   "version": "3.9.17"
  }
 },
 "nbformat": 4,
 "nbformat_minor": 5
}
